{
 "cells": [
  {
   "cell_type": "code",
   "execution_count": 1,
   "id": "20964615",
   "metadata": {},
   "outputs": [],
   "source": [
    "import numpy as np\n",
    "import matplotlib.pyplot as plt\n",
    "import cv2\n",
    "import scipy.ndimage as ndimage\n",
    "import os,sys\n",
    "import os.path as osp"
   ]
  },
  {
   "cell_type": "code",
   "execution_count": null,
   "id": "225e9e70",
   "metadata": {},
   "outputs": [],
   "source": []
  },
  {
   "cell_type": "code",
   "execution_count": 14,
   "id": "84ae3275",
   "metadata": {},
   "outputs": [],
   "source": [
    "npy_path = r'/playpen1/qiuyang/refined_segmentation/Nov_4_propagation_try1/Nov_22_masks_npy*300/F%05d.npy'\n",
    "img_path = r'/playpen1/qiuyang/refined_segmentation/Teli_9_undistort/Teli_9_img/F%05d_Capture1_Teli_9.png'\n",
    "save_path = r'/playpen1/qiuyang/refined_segmentation/Nov_4_propagation_try1/Nov_23_masks_superimposed*300/F%05d.png'\n",
    "for fn in range(0,300):\n",
    "    if fn==1:\n",
    "        continue\n",
    "    img = cv2.imread(img_path%fn)[:, :, [2,1,0]]\n",
    "    img = img.astype(np.int32)\n",
    "    npy = np.load(npy_path%fn)\n",
    "    mask = npy>0.5\n",
    "\n",
    "    \n",
    "    img[:,:,0][mask] += 100\n",
    "    img[img>255] = 255\n",
    "#     plt.imshow(img)\n",
    "#     plt.show()\n",
    "    img = img[:,:,[2,1,0]]\n",
    "    cv2.imwrite(save_path%fn, img)"
   ]
  },
  {
   "cell_type": "code",
   "execution_count": 18,
   "id": "097c2314",
   "metadata": {},
   "outputs": [],
   "source": [
    "# Nov_29 generate binary mask using threshold == 0.5\n",
    "img_path = r'/playpen1/qiuyang/refined_segmentation/Nov_4_propagation_try1/Nov_22_masks_npy*300/F%05d.npy'\n",
    "save_path = r'/playpen1/qiuyang/refined_segmentation/Nov_4_propagation_try1/Nov_29_binary_masks_npy*300/F%05d.npy'\n",
    "for fn in range(0,300):\n",
    "    if fn==1:\n",
    "        continue\n",
    "    npy = np.load(img_path%fn)\n",
    "    mask = npy > 0.5\n",
    "    np.save(save_path%fn, mask)"
   ]
  },
  {
   "cell_type": "code",
   "execution_count": 19,
   "id": "35d475ca",
   "metadata": {},
   "outputs": [],
   "source": [
    "# Nov_29 generate binary mask png using threshold == 0.5\n",
    "img_path = r'/playpen1/qiuyang/refined_segmentation/Nov_4_propagation_try1/Nov_22_masks_npy*300/F%05d.npy'\n",
    "save_path = r'/playpen1/qiuyang/refined_segmentation/Nov_4_propagation_try1/Nov_29_binary_masks_png*300/F%05d.png'\n",
    "for fn in range(0,300):\n",
    "    if fn==1:\n",
    "        continue\n",
    "    npy = np.load(img_path%fn)\n",
    "    mask = npy > 0.5\n",
    "    plt.imsave(save_path%fn, mask)"
   ]
  },
  {
   "cell_type": "code",
   "execution_count": 16,
   "id": "864c7c17",
   "metadata": {},
   "outputs": [
    {
     "name": "stdout",
     "output_type": "stream",
     "text": [
      "inPath is ../Nov_23_masks_superimposed*300\n",
      "video is ../Nov_23_overlay.mp4\n",
      "../Nov_23_masks_superimposed*300 F00000.png ../Nov_23_masks_superimposed*300/F00000.png True\n",
      "Traceback (most recent call last):\n",
      "  File \"imgs2video.py\", line 44, in <module>\n",
      "    cv2.destroyAllWindows()\n",
      "cv2.error: OpenCV(4.5.3) /tmp/pip-req-build-f51eratu/opencv/modules/highgui/src/window.cpp:1268: error: (-2:Unspecified error) The function is not implemented. Rebuild the library with Windows, GTK+ 2.x or Cocoa support. If you are on Ubuntu or Debian, install libgtk2.0-dev and pkg-config, then re-run cmake or configure script in function 'cvDestroyAllWindows'\n",
      "\n"
     ]
    }
   ],
   "source": [
    "!python imgs2video.py ../'Nov_23_masks_superimposed*300' ../Nov_23_overlay.mp4"
   ]
  },
  {
   "cell_type": "code",
   "execution_count": 17,
   "id": "b56d681d",
   "metadata": {},
   "outputs": [
    {
     "name": "stdout",
     "output_type": "stream",
     "text": [
      "inPath is ../Nov_21_masks*300\n",
      "video is ../Nov_23_prob_map.mp4\n",
      "../Nov_21_masks*300 F00000.png ../Nov_21_masks*300/F00000.png True\n",
      "Traceback (most recent call last):\n",
      "  File \"imgs2video.py\", line 44, in <module>\n",
      "    cv2.destroyAllWindows()\n",
      "cv2.error: OpenCV(4.5.3) /tmp/pip-req-build-f51eratu/opencv/modules/highgui/src/window.cpp:1268: error: (-2:Unspecified error) The function is not implemented. Rebuild the library with Windows, GTK+ 2.x or Cocoa support. If you are on Ubuntu or Debian, install libgtk2.0-dev and pkg-config, then re-run cmake or configure script in function 'cvDestroyAllWindows'\n",
      "\n"
     ]
    }
   ],
   "source": [
    "!python imgs2video.py ../'Nov_21_masks*300' ../Nov_23_prob_map.mp4"
   ]
  },
  {
   "cell_type": "code",
   "execution_count": null,
   "id": "97658d18",
   "metadata": {},
   "outputs": [],
   "source": []
  }
 ],
 "metadata": {
  "kernelspec": {
   "display_name": "Python 3 (ipykernel)",
   "language": "python",
   "name": "python3"
  },
  "language_info": {
   "codemirror_mode": {
    "name": "ipython",
    "version": 3
   },
   "file_extension": ".py",
   "mimetype": "text/x-python",
   "name": "python",
   "nbconvert_exporter": "python",
   "pygments_lexer": "ipython3",
   "version": "3.8.11"
  }
 },
 "nbformat": 4,
 "nbformat_minor": 5
}
