{
 "cells": [
  {
   "cell_type": "code",
   "execution_count": 2,
   "id": "1b8e9ca8",
   "metadata": {},
   "outputs": [],
   "source": [
    "import numpy as np\n",
    "import matplotlib.pyplot as plt\n",
    "import cv2\n",
    "import scipy.ndimage as ndimage\n",
    "import os,sys\n",
    "import os.path as osp"
   ]
  },
  {
   "cell_type": "code",
   "execution_count": 4,
   "id": "d8e05ee3",
   "metadata": {},
   "outputs": [],
   "source": [
    "# Nov 29 calculate iou score\n",
    "prop_mask = r'/playpen1/qiuyang/refined_segmentation/Nov_4_propagation_try1/Nov_29_binary_masks_npy*300/F%05d.npy'\n",
    "scribb_mask = r'/playpen1/qiuyang/refined_segmentation/Teli_9_undistort/Teli_9_img_npy_mask/F%05d.npy'\n",
    "iou_arr = []\n",
    "with open(\"output.txt\", \"w\") as text_file:\n",
    "    for fn in range(0,300):\n",
    "        if fn==1:\n",
    "            iou_arr.append(0)\n",
    "            text_file.write(\"F%05d iou: %f no score\\n\" %(fn,0))\n",
    "            continue\n",
    "\n",
    "        prop_npy = np.load(prop_mask%fn)\n",
    "        scribb_npy = np.load(scribb_mask%fn)\n",
    "        intersection = np.logical_and(prop_npy, scribb_npy )\n",
    "        union = np.logical_or(prop_npy, scribb_npy)\n",
    "        iou_score = np.sum(intersection) / np.sum(union)\n",
    "        iou_arr.append(iou_score)\n",
    "        text_file.write(\"F%05d iou: %f\\n\" %(fn,iou_score))"
   ]
  },
  {
   "cell_type": "code",
   "execution_count": 9,
   "id": "322331aa",
   "metadata": {},
   "outputs": [
    {
     "name": "stdout",
     "output_type": "stream",
     "text": [
      "[  1 212 211 210 209 208 213 207 216 222 217 218 215 214 223 221 205 206\n",
      " 220 219 224 225 204 203 226 227 228 202 229 201 230 235 231 237 232 233\n",
      " 236 200 198 234 199 243 238 197 239 241 196 244 240 195 242 193 194 247\n",
      " 245 192 246 251 248 252 190 250 191 188 189 249 253 254 186 187 185 256\n",
      "  89 259 257 265 263 260 264 183 255  86 261 181 258  90  88 262 184 182\n",
      "  91  87 179 267 178 268 266 284 285 286]\n",
      "[ 2  7  8  9  5  0  4 10 11  3 12 13 16 17 15 18 21 20 19 14 22 27 24 26\n",
      " 25 23 29 28 30 37 32 36 34 35 31 33 38 42 41 40 43 39 45 46 47 44 49 48\n",
      " 52 50]\n"
     ]
    }
   ],
   "source": [
    "iou_order = np.argsort(iou_arr)\n",
    "n = 10\n",
    "n_Smallest = iou_order[:100]\n",
    "n_Largest = iou_order[::-1][:50]\n",
    "print(n_Smallest)\n",
    "print(n_Largest)"
   ]
  },
  {
   "cell_type": "code",
   "execution_count": 7,
   "id": "7c9e6af1",
   "metadata": {},
   "outputs": [
    {
     "data": {
      "text/plain": [
       "[<matplotlib.lines.Line2D at 0x7f197bc97250>]"
      ]
     },
     "execution_count": 7,
     "metadata": {},
     "output_type": "execute_result"
    },
    {
     "data": {
      "image/png": "[encoded data removed]",
      "text/plain": [
       "<Figure size 432x288 with 1 Axes>"
      ]
     },
     "metadata": {
      "needs_background": "light"
     },
     "output_type": "display_data"
    }
   ],
   "source": [
    "plt.plot(np.arange(0,300), iou_arr)"
   ]
  },
  {
   "cell_type": "code",
   "execution_count": null,
   "id": "d3473449",
   "metadata": {},
   "outputs": [],
   "source": []
  }
 ],
 "metadata": {
  "kernelspec": {
   "display_name": "Python 3 (ipykernel)",
   "language": "python",
   "name": "python3"
  },
  "language_info": {
   "codemirror_mode": {
    "name": "ipython",
    "version": 3
   },
   "file_extension": ".py",
   "mimetype": "text/x-python",
   "name": "python",
   "nbconvert_exporter": "python",
   "pygments_lexer": "ipython3",
   "version": "3.8.11"
  }
 },
 "nbformat": 4,
 "nbformat_minor": 5
}
