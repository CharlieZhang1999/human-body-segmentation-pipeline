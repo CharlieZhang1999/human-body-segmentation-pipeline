{
 "cells": [
  {
   "cell_type": "code",
   "execution_count": 10,
   "id": "f7ad7f08",
   "metadata": {},
   "outputs": [
    {
     "name": "stdout",
     "output_type": "stream",
     "text": [
      "Requirement already satisfied: cvbase in /playpen1/qiuyang/miniconda3/envs/flownet2-36/lib/python3.6/site-packages (0.5.5)\n",
      "\u001b[31mERROR: Could not find a version that satisfies the requirement cv2 (from versions: none)\u001b[0m\n",
      "\u001b[31mERROR: No matching distribution found for cv2\u001b[0m\n"
     ]
    }
   ],
   "source": [
    "!pip install cvbase"
   ]
  },
  {
   "cell_type": "code",
   "execution_count": 11,
   "id": "b4277799",
   "metadata": {},
   "outputs": [
    {
     "name": "stdout",
     "output_type": "stream",
     "text": [
      "Collecting opencv-contrib-python\n",
      "  Downloading opencv_contrib_python-4.5.3.56-cp36-cp36m-manylinux2014_x86_64.whl (56.1 MB)\n",
      "\u001b[K     |████████████████████████████████| 56.1 MB 3.6 MB/s eta 0:00:01\n",
      "\u001b[?25hRequirement already satisfied: numpy>=1.13.3 in /playpen1/qiuyang/miniconda3/envs/flownet2-36/lib/python3.6/site-packages (from opencv-contrib-python) (1.19.2)\n",
      "Installing collected packages: opencv-contrib-python\n",
      "Successfully installed opencv-contrib-python-4.5.3.56\n"
     ]
    }
   ],
   "source": [
    "!pip install opencv-contrib-python"
   ]
  },
  {
   "cell_type": "code",
   "execution_count": 2,
   "id": "a75da00d",
   "metadata": {},
   "outputs": [
    {
     "name": "stdout",
     "output_type": "stream",
     "text": [
      "Collecting gdown\n",
      "  Downloading gdown-4.0.1.tar.gz (10 kB)\n",
      "  Installing build dependencies ... \u001b[?25ldone\n",
      "\u001b[?25h  Getting requirements to build wheel ... \u001b[?25ldone\n",
      "\u001b[?25h    Preparing wheel metadata ... \u001b[?25ldone\n",
      "\u001b[?25hRequirement already satisfied: six in /playpen1/qiuyang/miniconda3/envs/flownet2-36/lib/python3.6/site-packages (from gdown) (1.16.0)\n",
      "Requirement already satisfied: requests[socks]>=2.12.0 in /playpen1/qiuyang/miniconda3/envs/flownet2-36/lib/python3.6/site-packages (from gdown) (2.26.0)\n",
      "Requirement already satisfied: tqdm in /playpen1/qiuyang/miniconda3/envs/flownet2-36/lib/python3.6/site-packages (from gdown) (4.62.2)\n",
      "Collecting filelock\n",
      "  Downloading filelock-3.3.0-py3-none-any.whl (9.7 kB)\n",
      "Requirement already satisfied: charset-normalizer~=2.0.0 in /playpen1/qiuyang/miniconda3/envs/flownet2-36/lib/python3.6/site-packages (from requests[socks]>=2.12.0->gdown) (2.0.4)\n",
      "Requirement already satisfied: idna<4,>=2.5 in /playpen1/qiuyang/miniconda3/envs/flownet2-36/lib/python3.6/site-packages (from requests[socks]>=2.12.0->gdown) (3.2)\n",
      "Requirement already satisfied: urllib3<1.27,>=1.21.1 in /playpen1/qiuyang/miniconda3/envs/flownet2-36/lib/python3.6/site-packages (from requests[socks]>=2.12.0->gdown) (1.26.6)\n",
      "Requirement already satisfied: certifi>=2017.4.17 in /playpen1/qiuyang/miniconda3/envs/flownet2-36/lib/python3.6/site-packages (from requests[socks]>=2.12.0->gdown) (2021.5.30)\n",
      "Requirement already satisfied: PySocks!=1.5.7,>=1.5.6 in /playpen1/qiuyang/miniconda3/envs/flownet2-36/lib/python3.6/site-packages (from requests[socks]>=2.12.0->gdown) (1.7.1)\n",
      "Building wheels for collected packages: gdown\n",
      "  Building wheel for gdown (PEP 517) ... \u001b[?25ldone\n",
      "\u001b[?25h  Created wheel for gdown: filename=gdown-4.0.1-py3-none-any.whl size=10596 sha256=18e7a710e8913fd8c76ac846af8f68cfd879f2acc819e4e1b6648dd24b2c8e23\n",
      "  Stored in directory: /home/qiuyang/.cache/pip/wheels/54/ba/61/06b41165a158197fed123699ae2a2a8b8b55540f3df5e9b4e5\n",
      "Successfully built gdown\n",
      "Installing collected packages: filelock, gdown\n",
      "Successfully installed filelock-3.3.0 gdown-4.0.1\n"
     ]
    }
   ],
   "source": [
    "!pip install gdown"
   ]
  },
  {
   "cell_type": "code",
   "execution_count": 4,
   "id": "4dfc06d0",
   "metadata": {},
   "outputs": [
    {
     "name": "stdout",
     "output_type": "stream",
     "text": [
      "Downloading...\n",
      "From: https://drive.google.com/uc?id=1hF8vS6YeHkx3j2pfCeQqqZGwA_PJq_Da\n",
      "To: /playpen1/qiuyang/refined_segmentation/flownet2-pytorch/FlowNet2_checkpoint.pth.tar\n",
      "650MB [00:07, 86.1MB/s] \n"
     ]
    }
   ],
   "source": [
    "!gdown https://drive.google.com/uc?id=1hF8vS6YeHkx3j2pfCeQqqZGwA_PJq_Da"
   ]
  },
  {
   "cell_type": "code",
   "execution_count": 9,
   "id": "aabd755a",
   "metadata": {},
   "outputs": [
    {
     "name": "stdout",
     "output_type": "stream",
     "text": [
      "/playpen1/qiuyang/refined_segmentation/flownet2-pytorch\r\n"
     ]
    }
   ],
   "source": [
    "!pwd"
   ]
  },
  {
   "cell_type": "code",
   "execution_count": 7,
   "id": "bb4034c0",
   "metadata": {},
   "outputs": [
    {
     "name": "stdout",
     "output_type": "stream",
     "text": [
      "convert.py\t\t     install.sh        __pycache__\r\n",
      "datasets.py\t\t     launch_docker.sh  README.md\r\n",
      "Dockerfile\t\t     LICENSE\t       run_a_pair.py\r\n",
      "download_caffe_models.sh     losses.py\t       run-caffe2pytorch.sh\r\n",
      "FlowNet2_checkpoint.pth.tar  main.py\t       Untitled.ipynb\r\n",
      "image.png\t\t     models.py\t       utils\r\n",
      "__init__.py\t\t     networks\t       work\r\n"
     ]
    }
   ],
   "source": [
    "!ls"
   ]
  },
  {
   "cell_type": "code",
   "execution_count": 3,
   "id": "11d4fbd6",
   "metadata": {},
   "outputs": [
    {
     "name": "stdout",
     "output_type": "stream",
     "text": [
      "Parsing Arguments\n",
      "  [0.094s] \u001b[0mbatch_size: 8\u001b[0m\n",
      "  [0.094s] \u001b[0mcrop_size: [256, 256]\u001b[0m\n",
      "  [0.094s] \u001b[0mfp16: False\u001b[0m\n",
      "  [0.094s] \u001b[0mfp16_scale: 1024.0\u001b[0m\n",
      "  [0.094s] \u001b[0mgradient_clip: None\u001b[0m\n",
      "  [0.094s] \u001b[0minference: False\u001b[0m\n",
      "  [0.094s] \u001b[0minference_batch_size: 1\u001b[0m\n",
      "  [0.094s] \u001b[0minference_dataset: MpiSintelClean\u001b[0m\n",
      "  [0.094s] \u001b[0minference_dataset_replicates: 1\u001b[0m\n",
      "  [0.094s] \u001b[0minference_dataset_root: ./MPI-Sintel/flow/training\u001b[0m\n",
      "  [0.094s] \u001b[0minference_n_batches: -1\u001b[0m\n",
      "  [0.094s] \u001b[0minference_size: [-1, -1]\u001b[0m\n",
      "  [0.094s] \u001b[0minference_visualize: False\u001b[0m\n",
      "  [0.094s] \u001b[0mlog_frequency: 1\u001b[0m\n",
      "  [0.094s] \u001b[0mloss: L1Loss\u001b[0m\n",
      "  [0.094s] \u001b[0mmodel: FlowNet2\u001b[0m\n",
      "  [0.094s] \u001b[0mmodel_batchNorm: False\u001b[0m\n",
      "  [0.094s] \u001b[0mmodel_div_flow: 20.0\u001b[0m\n",
      "  [0.094s] \u001b[0mname: run\u001b[0m\n",
      "  [0.094s] \u001b[0mno_cuda: False\u001b[0m\n",
      "  [0.094s] \u001b[35mnumber_gpus: 4\u001b[0m\n",
      "  [0.094s] \u001b[0mnumber_workers: 8\u001b[0m\n",
      "  [0.094s] \u001b[0moptimizer: Adam\u001b[0m\n",
      "  [0.094s] \u001b[0moptimizer_amsgrad: False\u001b[0m\n",
      "  [0.094s] \u001b[0moptimizer_betas: (0.9, 0.999)\u001b[0m\n",
      "  [0.094s] \u001b[0moptimizer_eps: 1e-08\u001b[0m\n",
      "  [0.094s] \u001b[35moptimizer_lr: 0.0001\u001b[0m\n",
      "  [0.094s] \u001b[0moptimizer_weight_decay: 0\u001b[0m\n",
      "  [0.094s] \u001b[0mrender_validation: False\u001b[0m\n",
      "  [0.094s] \u001b[0mresume: \u001b[0m\n",
      "  [0.094s] \u001b[0mrgb_max: 255.0\u001b[0m\n",
      "  [0.094s] \u001b[0msave: ./work\u001b[0m\n",
      "  [0.094s] \u001b[0msave_flow: False\u001b[0m\n",
      "  [0.094s] \u001b[0mschedule_lr_fraction: 10\u001b[0m\n",
      "  [0.094s] \u001b[0mschedule_lr_frequency: 0\u001b[0m\n",
      "  [0.094s] \u001b[0mseed: 1\u001b[0m\n",
      "  [0.094s] \u001b[0mskip_training: False\u001b[0m\n",
      "  [0.094s] \u001b[0mskip_validation: False\u001b[0m\n",
      "  [0.094s] \u001b[0mstart_epoch: 1\u001b[0m\n",
      "  [0.095s] \u001b[0mtotal_epochs: 10000\u001b[0m\n",
      "  [0.095s] \u001b[0mtrain_n_batches: -1\u001b[0m\n",
      "  [0.095s] \u001b[0mtraining_dataset: MpiSintelFinal\u001b[0m\n",
      "  [0.095s] \u001b[0mtraining_dataset_replicates: 1\u001b[0m\n",
      "  [0.095s] \u001b[35mtraining_dataset_root: /path/to/mpi-sintel/final/dataset\u001b[0m\n",
      "  [0.095s] \u001b[0mvalidation_dataset: MpiSintelClean\u001b[0m\n",
      "  [0.095s] \u001b[0mvalidation_dataset_replicates: 1\u001b[0m\n",
      "  [0.095s] \u001b[35mvalidation_dataset_root: /path/to/mpi-sintel/clean/dataset\u001b[0m\n",
      "  [0.095s] \u001b[0mvalidation_frequency: 5\u001b[0m\n",
      "  [0.095s] \u001b[0mvalidation_n_batches: -1\u001b[0m\n",
      "  [0.097s] Operation finished\n",
      "\n",
      "Source Code\n",
      "  Current Git Hash: b'2e9e010c98931bc7cef3eb063b195f1e0ab470ba'\n",
      "\n",
      "Initializing Datasets\n",
      "  [0.000s] Operation finished\n",
      "\n",
      "Building FlowNet2 model\n",
      "  [3.731s] Effective Batch Size: 32\n",
      "  [3.733s] Number of parameters: 162518834\n",
      "  [3.733s] Initializing CUDA\n"
     ]
    }
   ],
   "source": [
    "# Example on MPISintel Final and Clean, with L1Loss on FlowNet2 model\n",
    "!python main.py --batch_size 8 --model FlowNet2 --loss=L1Loss --optimizer=Adam --optimizer_lr=1e-4 \\\n",
    "--training_dataset MpiSintelFinal --training_dataset_root /path/to/mpi-sintel/final/dataset  \\\n",
    "--validation_dataset MpiSintelClean --validation_dataset_root /path/to/mpi-sintel/clean/dataset"
   ]
  },
  {
   "cell_type": "code",
   "execution_count": 1,
   "id": "83e0adb0",
   "metadata": {},
   "outputs": [
    {
     "name": "stdout",
     "output_type": "stream",
     "text": [
      "Namespace(fp16=False, rgb_max=255.0)\n",
      "Traceback (most recent call last):\n",
      "  File \"run_a_pair.py\", line 24, in <module>\n",
      "    pim1 = read_gen(\"/playpen1/qiuyang/refined_segmentation/Oct_2_flow_dataset/training/clean/alley_1/frame_0001.png\")\n",
      "  File \"/playpen1/qiuyang/refined_segmentation/flownet2-pytorch/utils/frame_utils.py\", line 9, in read_gen\n",
      "    im = imread(file_name)\n",
      "  File \"/playpen1/qiuyang/miniconda3/envs/flownet2-36/lib/python3.6/site-packages/numpy/lib/utils.py\", line 100, in newfunc\n",
      "    return func(*args, **kwds)\n",
      "  File \"/playpen1/qiuyang/miniconda3/envs/flownet2-36/lib/python3.6/site-packages/scipy/misc/pilutil.py\", line 164, in imread\n",
      "    im = Image.open(name)\n",
      "  File \"/playpen1/qiuyang/miniconda3/envs/flownet2-36/lib/python3.6/site-packages/PIL/Image.py\", line 2968, in open\n",
      "    fp = builtins.open(filename, \"rb\")\n",
      "FileNotFoundError: [Errno 2] No such file or directory: '/playpen1/qiuyang/refined_segmentation/Oct_2_flow_dataset/training/clean/alley_1/frame_0001.png'\n"
     ]
    }
   ],
   "source": [
    "!python run_a_pair.py"
   ]
  },
  {
   "cell_type": "code",
   "execution_count": 1,
   "id": "1d663bd0",
   "metadata": {},
   "outputs": [
    {
     "name": "stdout",
     "output_type": "stream",
     "text": [
      "(384, 1024, 3)\n"
     ]
    },
    {
     "data": {
      "image/png": "[encoded data removed]",
      "text/plain": [
       "<Figure size 432x288 with 1 Axes>"
      ]
     },
     "metadata": {
      "needs_background": "light"
     },
     "output_type": "display_data"
    }
   ],
   "source": [
    "import cvbase as cvb\n",
    "import numpy as np\n",
    "import matplotlib.pyplot as plt\n",
    "# to visualize a flow file\n",
    "# cvb.show_flow('output.flo')\n",
    "from cvbase.image import rgb2bgr\n",
    "from cvbase.visualize import show_img\n",
    "from cvbase.optflow.io import read_flow\n",
    "\n",
    "def flow2rgb(flow, color_wheel=None, unknown_thr=1e6):\n",
    "    \"\"\"Convert flow map to RGB image\n",
    "    Args:\n",
    "        flow(ndarray): optical flow\n",
    "        color_wheel(ndarray or None): color wheel used to map flow field to RGB\n",
    "            colorspace. Default color wheel will be used if not specified\n",
    "        unknown_thr(str): values above this threshold will be marked as unknown\n",
    "            and thus ignored\n",
    "    \n",
    "    Returns:\n",
    "        ndarray: an RGB image that can be visualized\n",
    "    \"\"\"\n",
    "    assert flow.ndim == 3 and flow.shape[-1] == 2\n",
    "    if color_wheel is None:\n",
    "        color_wheel = make_color_wheel()\n",
    "    assert color_wheel.ndim == 2 and color_wheel.shape[1] == 3\n",
    "    num_bins = color_wheel.shape[0]\n",
    "\n",
    "    dx = flow[:, :, 0].copy()\n",
    "    dy = flow[:, :, 1].copy()\n",
    "\n",
    "    ignore_inds = (np.isnan(dx) | np.isnan(dy) | (np.abs(dx) > unknown_thr) |\n",
    "                   (np.abs(dy) > unknown_thr))\n",
    "    dx[ignore_inds] = 0\n",
    "    dy[ignore_inds] = 0\n",
    "\n",
    "    rad = np.sqrt(dx**2 + dy**2)\n",
    "    if np.any(rad > np.finfo(float).eps):\n",
    "        max_rad = np.max(rad)\n",
    "        dx /= max_rad\n",
    "        dy /= max_rad\n",
    "\n",
    "    [h, w] = dx.shape\n",
    "\n",
    "    rad = np.sqrt(dx**2 + dy**2)\n",
    "    angle = np.arctan2(-dy, -dx) / np.pi\n",
    "\n",
    "    bin_real = (angle + 1) / 2 * (num_bins - 1)\n",
    "    bin_left = np.floor(bin_real).astype(int)\n",
    "    bin_right = (bin_left + 1) % num_bins\n",
    "    w = (bin_real - bin_left.astype(np.float32))[..., None]\n",
    "    flow_img = (\n",
    "        1 - w) * color_wheel[bin_left, :] + w * color_wheel[bin_right, :]\n",
    "    small_ind = rad <= 1\n",
    "    flow_img[small_ind] = 1 - rad[small_ind, None] * (1 - flow_img[small_ind])\n",
    "    flow_img[np.logical_not(small_ind)] *= 0.75\n",
    "\n",
    "    flow_img[ignore_inds, :] = 0\n",
    "\n",
    "    return flow_img\n",
    "\n",
    "def make_color_wheel(bins=None):\n",
    "    \"\"\"Build a color wheel\n",
    "    Args:\n",
    "        bins(list or tuple, optional): specify number of bins for each color\n",
    "            range, corresponding to six ranges: red -> yellow, yellow -> green,\n",
    "            green -> cyan, cyan -> blue, blue -> magenta, magenta -> red.\n",
    "            [15, 6, 4, 11, 13, 6] is used for default (see Middlebury).\n",
    "    \n",
    "    Returns:\n",
    "        ndarray: color wheel of shape (total_bins, 3)\n",
    "    \"\"\"\n",
    "    if bins is None:\n",
    "        bins = [15, 6, 4, 11, 13, 6]\n",
    "    assert len(bins) == 6\n",
    "\n",
    "    RY, YG, GC, CB, BM, MR = tuple(bins)\n",
    "\n",
    "    ry = [1, np.arange(RY) / RY, 0]\n",
    "    yg = [1 - np.arange(YG) / YG, 1, 0]\n",
    "    gc = [0, 1, np.arange(GC) / GC]\n",
    "    cb = [0, 1 - np.arange(CB) / CB, 1]\n",
    "    bm = [np.arange(BM) / BM, 0, 1]\n",
    "    mr = [1, 0, 1 - np.arange(MR) / MR]\n",
    "\n",
    "    num_bins = RY + YG + GC + CB + BM + MR\n",
    "\n",
    "    color_wheel = np.zeros((3, num_bins), dtype=np.float32)\n",
    "\n",
    "    col = 0\n",
    "    for i, color in enumerate([ry, yg, gc, cb, bm, mr]):\n",
    "        for j in range(3):\n",
    "            color_wheel[j, col:col + bins[i]] = color[j]\n",
    "        col += bins[i]\n",
    "\n",
    "    return color_wheel.T\n",
    "\n",
    "flow = read_flow('output.flo')\n",
    "flow_img = flow2rgb(flow)\n",
    "print(flow_img.shape)\n",
    "plt.imsave('flow.png', flow_img)\n",
    "plt.imshow(flow_img)\n",
    "plt.show()"
   ]
  },
  {
   "cell_type": "code",
   "execution_count": null,
   "id": "91e419c9",
   "metadata": {},
   "outputs": [],
   "source": []
  }
 ],
 "metadata": {
  "kernelspec": {
   "display_name": "Python 3",
   "language": "python",
   "name": "python3"
  },
  "language_info": {
   "codemirror_mode": {
    "name": "ipython",
    "version": 3
   },
   "file_extension": ".py",
   "mimetype": "text/x-python",
   "name": "python",
   "nbconvert_exporter": "python",
   "pygments_lexer": "ipython3",
   "version": "3.6.13"
  }
 },
 "nbformat": 4,
 "nbformat_minor": 5
}
