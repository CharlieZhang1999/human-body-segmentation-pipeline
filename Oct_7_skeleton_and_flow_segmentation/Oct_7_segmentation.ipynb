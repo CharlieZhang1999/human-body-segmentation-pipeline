{
 "cells": [
  {
   "cell_type": "code",
   "execution_count": 1,
   "id": "82402d78",
   "metadata": {},
   "outputs": [
    {
     "name": "stdout",
     "output_type": "stream",
     "text": [
      "/playpen1/qiuyang/refined_segmentation/Oct_9_skeleton_and_flow_segmentation\r\n"
     ]
    }
   ],
   "source": [
    "!pwd"
   ]
  },
  {
   "cell_type": "code",
   "execution_count": 12,
   "id": "8e7fabd9",
   "metadata": {},
   "outputs": [],
   "source": [
    "import numpy as np\n",
    "import matplotlib.pyplot as plt\n",
    "import cv2\n",
    "import scipy.ndimage as ndimage\n",
    "import os,sys\n",
    "import os.path as osp"
   ]
  },
  {
   "cell_type": "code",
   "execution_count": 3,
   "id": "d61d1b15",
   "metadata": {},
   "outputs": [
    {
     "name": "stdout",
     "output_type": "stream",
     "text": [
      "(1216, 1024, 2)\n",
      "(1216, 1024)\n"
     ]
    }
   ],
   "source": [
    "npy_path = r'/playpen1/qiuyang/refined_segmentation/Oct_4_flownet2_and_stereo_data/Teli_npy/F%05d_Teli.npy'\n",
    "mask_png_path = r'/playpen1/qiuyang/refined_segmentation/Oct_7_skeleton_and_flow_segmentation/background_mask_png/F%05d_mask.png'\n",
    "mask_npy_path = r'/playpen1/qiuyang/refined_segmentation/Oct_7_skeleton_and_flow_segmentation/background_mask_npy/F%05d_mask.npy'\n",
    "for fn in range(0,628):\n",
    "    data = np.load(npy_path%fn)\n",
    "    print(data.shape)\n",
    "    data_x = abs(data[:,:,0])\n",
    "    bg_mask = data_x<np.percentile(data_x, 50)\n",
    "    print(bg_mask.shape)\n",
    "#     np.save(mask_npy_path%fn, bg_mask)\n",
    "#     plt.imsave(mask_png_path%fn, bg_mask)\n",
    "    break\n",
    "\n"
   ]
  },
  {
   "cell_type": "code",
   "execution_count": 15,
   "id": "af999ea1",
   "metadata": {},
   "outputs": [
    {
     "data": {
      "image/png": "[encoded data removed]",
      "text/plain": [
       "<Figure size 432x288 with 1 Axes>"
      ]
     },
     "metadata": {
      "needs_background": "light"
     },
     "output_type": "display_data"
    }
   ],
   "source": [
    "# Oct_9_resized_version\n",
    "npy_path = r'/playpen1/qiuyang/refined_segmentation/Oct_4_flownet2_and_stereo_data/Teli_npy/F%05d_Teli.npy'\n",
    "mask_npy_path = r'/playpen1/qiuyang/refined_segmentation/Oct_7_skeleton_and_flow_segmentation/background_mask_npy_resized/F%05d_mask.npy'\n",
    "# for fn in range(0,628):\n",
    "for fn in range(88, 89):\n",
    "    data = np.load(npy_path%fn)\n",
    "    data_x = data[:, :, 0]\n",
    "    data_x = cv2.resize(data_x, (512, 608))\n",
    "    data_x = abs(data_x)\n",
    "    bg_mask = data_x>np.percentile(data_x, 80)\n",
    "    plt.imshow(bg_mask)\n",
    "    plt.show()\n",
    "#     ndimage.binary_erosion(bg_mask, structure=np.ones((200,200))).astype(bg_mask.dtype)\n",
    "#     plt.imshow(bg_mask)\n",
    "#     plt.show()\n",
    "#     bg_mask = data_x<np.percentile(data_x, 50)\n",
    "#     np.save(mask_npy_path%fn, bg_mask)\n",
    "#     plt.imsave(mask_png_path%fn, bg_mask)"
   ]
  },
  {
   "cell_type": "code",
   "execution_count": 14,
   "id": "2192ab11",
   "metadata": {},
   "outputs": [],
   "source": [
    "# Oct_17_CSS_Teli_5_6 version\n",
    "npy_path = r'/playpen1/qiuyang/refined_segmentation/Oct_4_flownet2_and_stereo_data/Flownet2CSS_Teli_5_6_npy/F%05d_Teli.npy'\n",
    "mask_npy_path = r'/playpen1/qiuyang/refined_segmentation/Oct_17_Flownet_bg_mask/Oct_17_Flownet2CSS_Teli_5_6_bg_mask/F%05d_mask.npy'\n",
    "mask_png_path = r'/playpen1/qiuyang/refined_segmentation/Oct_17_Flownet_bg_mask/Oct_17_Flownet2CSS_Teli_5_6_bg_mask_png/F%05d_mask.png'\n",
    "for path in [mask_npy_path, mask_png_path]:\n",
    "    if not osp.isdir(path):\n",
    "        os.makedirs(path)      \n",
    "\n",
    "for fn in range(0, 628):\n",
    "    data = np.load(npy_path%fn)\n",
    "    data_x = data[:, :, 0]\n",
    "    data_x = cv2.resize(data_x, (512, 608))\n",
    "    data_x = abs(data_x)\n",
    "    bg_mask = data_x<np.percentile(data_x, 50)\n",
    "#     plt.imshow(bg_mask)\n",
    "#     plt.show()\n",
    "    np.save(mask_npy_path%fn, bg_mask)\n",
    "    plt.imsave(mask_png_path%fn, bg_mask)"
   ]
  },
  {
   "cell_type": "code",
   "execution_count": 25,
   "id": "bea28e11",
   "metadata": {},
   "outputs": [],
   "source": [
    "# Oct_17_CSS_Teli_5 version\n",
    "npy_path = r'/playpen1/qiuyang/refined_segmentation/Oct_4_flownet2_and_stereo_data/Flownet2CSS_Teli_5_npy/F%05d_Teli.npy'\n",
    "mask_npy_path = r'/playpen1/qiuyang/refined_segmentation/Oct_17_Flownet_bg_mask/Oct_17_Flownet2CSS_Teli_5_bg_mask/F%05d_mask.npy'\n",
    "mask_png_path = r'/playpen1/qiuyang/refined_segmentation/Oct_17_Flownet_bg_mask/Oct_17_Flownet2CSS_Teli_5_bg_mask_png/F%05d_mask.png'\n",
    "for path in [mask_npy_path, mask_png_path]:\n",
    "    if not osp.isdir(path):\n",
    "        os.makedirs(path)      \n",
    "\n",
    "for fn in range(0, 627):\n",
    "    data = np.load(npy_path%fn)\n",
    "    data_x = data[:, :, 0]\n",
    "    data_x = cv2.resize(data_x, (512, 608))\n",
    "    data_x = abs(data_x)\n",
    "    bg_mask = data_x<np.percentile(data_x, 50)\n",
    "#     plt.imshow(bg_mask)\n",
    "#     plt.show()\n",
    "    np.save(mask_npy_path%fn, bg_mask)\n",
    "    plt.imsave(mask_png_path%fn, bg_mask)"
   ]
  },
  {
   "cell_type": "code",
   "execution_count": 28,
   "id": "e4a5fa92",
   "metadata": {},
   "outputs": [],
   "source": [
    "# Oct_17_Flownet2_Teli_5_6 version\n",
    "npy_path = r'/playpen1/qiuyang/refined_segmentation/Oct_4_flownet2_and_stereo_data/Flownet2_Teli_5_6_npy/F%05d_Teli.npy'\n",
    "mask_npy_path = r'/playpen1/qiuyang/refined_segmentation/Oct_17_Flownet_bg_mask/Oct_17_Flownet2_Teli_5_6_bg_mask/F%05d_mask.npy'\n",
    "mask_png_path = r'/playpen1/qiuyang/refined_segmentation/Oct_17_Flownet_bg_mask/Oct_17_Flownet2_Teli_5_6_bg_mask_png/F%05d_mask.png'\n",
    "for path in [mask_npy_path, mask_png_path]:\n",
    "    if not osp.isdir(path):\n",
    "        os.makedirs(path)      \n",
    "\n",
    "for fn in range(0, 628):\n",
    "    data = np.load(npy_path%fn)\n",
    "    data_x = data[:, :, 0]\n",
    "    data_x = cv2.resize(data_x, (512, 608))\n",
    "    data_x = abs(data_x)\n",
    "    bg_mask = data_x<np.percentile(data_x, 50)\n",
    "#     plt.imshow(bg_mask)\n",
    "#     plt.show()\n",
    "    np.save(mask_npy_path%fn, bg_mask)\n",
    "    plt.imsave(mask_png_path%fn, bg_mask)"
   ]
  },
  {
   "cell_type": "code",
   "execution_count": 38,
   "id": "8bc86d3d",
   "metadata": {},
   "outputs": [],
   "source": [
    "# Oct_17_Flownet2_Teli_5 version\n",
    "npy_path = r'/playpen1/qiuyang/refined_segmentation/Oct_4_flownet2_and_stereo_data/Flownet2_Teli_5_npy/F%05d_Teli_5.npy'\n",
    "mask_npy_path = r'/playpen1/qiuyang/refined_segmentation/Oct_17_Flownet_bg_mask/Oct_17_Flownet2_Teli_5_bg_mask/F%05d_mask.npy'\n",
    "mask_png_path = r'/playpen1/qiuyang/refined_segmentation/Oct_17_Flownet_bg_mask/Oct_17_Flownet2_Teli_5_bg_mask_png/F%05d_mask.png'\n",
    "for path in [mask_npy_path, mask_png_path]:\n",
    "    if not osp.isdir(path):\n",
    "        os.makedirs(path)      \n",
    "\n",
    "for fn in range(0, 627):\n",
    "    data = np.load(npy_path%fn)\n",
    "    data_x = data[:, :, 0]\n",
    "    data_x = cv2.resize(data_x, (512, 608))\n",
    "    data_x = abs(data_x)\n",
    "    bg_mask = data_x<np.percentile(data_x, 50)\n",
    "#     plt.imshow(bg_mask)\n",
    "#     plt.show()\n",
    "    np.save(mask_npy_path%fn, bg_mask)\n",
    "    plt.imsave(mask_png_path%fn, bg_mask)"
   ]
  },
  {
   "cell_type": "code",
   "execution_count": null,
   "id": "b36cc22c",
   "metadata": {},
   "outputs": [],
   "source": []
  }
 ],
 "metadata": {
  "kernelspec": {
   "display_name": "Python 3 (ipykernel)",
   "language": "python",
   "name": "python3"
  },
  "language_info": {
   "codemirror_mode": {
    "name": "ipython",
    "version": 3
   },
   "file_extension": ".py",
   "mimetype": "text/x-python",
   "name": "python",
   "nbconvert_exporter": "python",
   "pygments_lexer": "ipython3",
   "version": "3.8.11"
  }
 },
 "nbformat": 4,
 "nbformat_minor": 5
}
